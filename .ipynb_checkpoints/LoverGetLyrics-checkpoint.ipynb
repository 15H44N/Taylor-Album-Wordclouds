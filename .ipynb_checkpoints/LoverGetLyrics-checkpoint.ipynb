{
 "cells": [
  {
   "cell_type": "code",
   "execution_count": 4,
   "metadata": {
    "Collapsed": "false"
   },
   "outputs": [],
   "source": [
    "from azapi import AZlyrics"
   ]
  },
  {
   "cell_type": "code",
   "execution_count": 5,
   "metadata": {
    "Collapsed": "false"
   },
   "outputs": [],
   "source": [
    "lines=[]\n",
    "with open (\"./Lover 2019/LoverTracklist.txt\") as f:\n",
    "    lines = f.readlines()\n",
    "    \n",
    "for index,line in enumerate(lines):\n",
    "    lines[index]=line.strip(\"\\n\")"
   ]
  },
  {
   "cell_type": "code",
   "execution_count": 6,
   "metadata": {
    "Collapsed": "false"
   },
   "outputs": [
    {
     "name": "stdout",
     "output_type": "stream",
     "text": [
      "Error 404!\n",
      "Error 404!\n",
      "Error 404!\n",
      "Error 404!\n",
      "Error 404!\n"
     ]
    }
   ],
   "source": [
    "lyriclinelist=[]\n",
    "gotlyrics=[]\n",
    "for i in lines:\n",
    "    api=AZlyrics('google')\n",
    "    api.artist=\"Taylor Swift\"\n",
    "    api.title =i\n",
    "    lyricStr = api.getLyrics()\n",
    "    \n",
    "    if isinstance(lyricStr,str):\n",
    "        f = open(\"./LoverLyrics/\"+i+\".txt\", \"w\")   # 'r' for reading and 'w' for writing\n",
    "        f.write(lyricStr)    # Write inside file \n",
    "        f.close()\n",
    "        gotlyrics.append(1)\n",
    "    \n",
    "    else:\n",
    "        gotlyrics.append(0)"
   ]
  },
  {
   "cell_type": "code",
   "execution_count": 7,
   "metadata": {
    "Collapsed": "false"
   },
   "outputs": [
    {
     "name": "stdout",
     "output_type": "stream",
     "text": [
      "I Forgot That You Existed\n",
      "Lover\n",
      "The Man\n",
      "You Need to Calm Down\n",
      "ME! (feat. Brendon Urie)\n"
     ]
    }
   ],
   "source": [
    "#not got lyrics:\n",
    "\n",
    "for i,song in enumerate(lines):\n",
    "    if gotlyrics[i] is 0:\n",
    "        print(lines[i])"
   ]
  },
  {
   "cell_type": "code",
   "execution_count": 9,
   "metadata": {
    "Collapsed": "false"
   },
   "outputs": [
    {
     "name": "stdout",
     "output_type": "stream",
     "text": [
      "Error 404!\n",
      "Error 404!\n"
     ]
    }
   ],
   "source": [
    "for i,song in enumerate(lines):\n",
    "    if gotlyrics[i] is 0:\n",
    "        api=AZlyrics('google')\n",
    "        api.artist=\"Taylor Swift\"\n",
    "        api.title =song\n",
    "        lyricStr = api.getLyrics()\n",
    "\n",
    "        if isinstance(lyricStr,str):\n",
    "            f = open(\"./LoverLyrics/\"+song+\".txt\", \"w\")   # 'r' for reading and 'w' for writing\n",
    "            f.write(lyricStr)    # Write inside file \n",
    "            f.close()\n",
    "            gotlyrics[i]=1"
   ]
  },
  {
   "cell_type": "code",
   "execution_count": 10,
   "metadata": {
    "Collapsed": "false"
   },
   "outputs": [
    {
     "name": "stdout",
     "output_type": "stream",
     "text": [
      "Lover\n",
      "The Man\n"
     ]
    }
   ],
   "source": [
    "for i,song in enumerate(lines):\n",
    "    if gotlyrics[i] is 0:\n",
    "        print(lines[i])"
   ]
  },
  {
   "cell_type": "code",
   "execution_count": 11,
   "metadata": {
    "Collapsed": "false"
   },
   "outputs": [
    {
     "name": "stdout",
     "output_type": "stream",
     "text": [
      "Error 404!\n"
     ]
    }
   ],
   "source": [
    "for i,song in enumerate(lines):\n",
    "    if gotlyrics[i] is 0:\n",
    "        api=AZlyrics('google')\n",
    "        api.artist=\"Taylor Swift\"\n",
    "        api.title =song\n",
    "        lyricStr = api.getLyrics()\n",
    "\n",
    "        if isinstance(lyricStr,str):\n",
    "            f = open(\"./LoverLyrics/\"+song+\".txt\", \"w\")   # 'r' for reading and 'w' for writing\n",
    "            f.write(lyricStr)    # Write inside file \n",
    "            f.close()\n",
    "            gotlyrics[i]=1"
   ]
  },
  {
   "cell_type": "code",
   "execution_count": 12,
   "metadata": {
    "Collapsed": "false"
   },
   "outputs": [
    {
     "name": "stdout",
     "output_type": "stream",
     "text": [
      "The Man\n"
     ]
    }
   ],
   "source": [
    "for i,song in enumerate(lines):\n",
    "    if gotlyrics[i] is 0:\n",
    "        print(lines[i])"
   ]
  },
  {
   "cell_type": "code",
   "execution_count": 13,
   "metadata": {
    "Collapsed": "false"
   },
   "outputs": [
    {
     "name": "stdout",
     "output_type": "stream",
     "text": [
      "Error 404!\n"
     ]
    }
   ],
   "source": []
  },
  {
   "cell_type": "code",
   "execution_count": 16,
   "metadata": {
    "Collapsed": "false"
   },
   "outputs": [],
   "source": [
    "api.artist=\"Taylor Swift\"\n",
    "api.title = \"The man\"\n",
    "lyricStr = api.getLyrics()\n",
    "lyricStr\n",
    "if isinstance(lyricStr,str):\n",
    "    f = open(\"./LoverLyrics/\"+\"The Man\"+\".txt\", \"w\")   # 'r' for reading and 'w' for writing\n",
    "    f.write(lyricStr)    # Write inside file \n",
    "    f.close()"
   ]
  },
  {
   "cell_type": "code",
   "execution_count": null,
   "metadata": {
    "Collapsed": "false"
   },
   "outputs": [],
   "source": []
  }
 ],
 "metadata": {
  "kernelspec": {
   "display_name": "Python 3.7.4 64-bit ('base': conda)",
   "language": "python",
   "name": "python37464bitbaseconda068391785abd4674844ced6ec36f0ef9"
  },
  "language_info": {
   "codemirror_mode": {
    "name": "ipython",
    "version": 3
   },
   "file_extension": ".py",
   "mimetype": "text/x-python",
   "name": "python",
   "nbconvert_exporter": "python",
   "pygments_lexer": "ipython3",
   "version": "3.7.6"
  }
 },
 "nbformat": 4,
 "nbformat_minor": 4
}
