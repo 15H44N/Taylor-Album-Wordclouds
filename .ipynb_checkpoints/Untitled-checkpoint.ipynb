{
 "cells": [
  {
   "cell_type": "code",
   "execution_count": 16,
   "metadata": {
    "Collapsed": "false"
   },
   "outputs": [],
   "source": [
    "import os\n",
    "import pandas as pd\n",
    "import lyricsgenius\n",
    "import json\n",
    "import re"
   ]
  },
  {
   "cell_type": "code",
   "execution_count": 5,
   "metadata": {
    "Collapsed": "false"
   },
   "outputs": [],
   "source": [
    "with open(\"./Folklore/GeniusSecrets.json\",'r') as f:\n",
    "    secret = json.load(f)"
   ]
  },
  {
   "cell_type": "code",
   "execution_count": 7,
   "metadata": {
    "Collapsed": "false"
   },
   "outputs": [],
   "source": [
    "genius = lyricsgenius.Genius(secret['CLIENT_ACCESS_TOKEN'])"
   ]
  },
  {
   "cell_type": "code",
   "execution_count": 8,
   "metadata": {
    "Collapsed": "false"
   },
   "outputs": [],
   "source": [
    "#song = genius.search_song(\"To You\", artist.name)\n",
    "#print(song.lyrics)"
   ]
  },
  {
   "cell_type": "code",
   "execution_count": 9,
   "metadata": {
    "Collapsed": "false"
   },
   "outputs": [],
   "source": [
    "track_list = [\"the 1\",\n",
    "             \"cardigan\",\n",
    "             \"the last great american dynasty\",\n",
    "             \"exile\",\n",
    "             \"my tears ricochet\",\n",
    "             \"mirrorball\",\n",
    "             \"seven\",\n",
    "             \"august\",\n",
    "             \"this is me trying\",\n",
    "             \"illicit affairs\",\n",
    "             \"invisible string\",\n",
    "             \"mad woman\",\n",
    "             \"epiphany\",\n",
    "             \"betty\",\n",
    "             \"peace\",\n",
    "             \"hoax\"]"
   ]
  },
  {
   "cell_type": "code",
   "execution_count": 13,
   "metadata": {
    "Collapsed": "false"
   },
   "outputs": [
    {
     "name": "stdout",
     "output_type": "stream",
     "text": [
      "Searching for \"cardigan\" by Taylor Swift...\n",
      "Done.\n"
     ]
    }
   ],
   "source": [
    "song = genius.search_song(track_list[1],'Taylor Swift')"
   ]
  },
  {
   "cell_type": "code",
   "execution_count": 17,
   "metadata": {
    "Collapsed": "false"
   },
   "outputs": [
    {
     "name": "stdout",
     "output_type": "stream",
     "text": [
      "Searching for \"the 1\" by Taylor Swift...\n",
      "Done.\n",
      "Searching for \"cardigan\" by Taylor Swift...\n",
      "Done.\n",
      "Searching for \"the last great american dynasty\" by Taylor Swift...\n",
      "Done.\n",
      "Searching for \"exile\" by Taylor Swift...\n",
      "Done.\n",
      "Searching for \"my tears ricochet\" by Taylor Swift...\n",
      "Done.\n",
      "Searching for \"mirrorball\" by Taylor Swift...\n",
      "Done.\n",
      "Searching for \"seven\" by Taylor Swift...\n",
      "Done.\n",
      "Searching for \"august\" by Taylor Swift...\n",
      "Done.\n",
      "Searching for \"this is me trying\" by Taylor Swift...\n",
      "Done.\n",
      "Searching for \"illicit affairs\" by Taylor Swift...\n",
      "Done.\n",
      "Searching for \"invisible string\" by Taylor Swift...\n",
      "Done.\n",
      "Searching for \"mad woman\" by Taylor Swift...\n",
      "Done.\n",
      "Searching for \"epiphany\" by Taylor Swift...\n",
      "Done.\n",
      "Searching for \"betty\" by Taylor Swift...\n",
      "Done.\n",
      "Searching for \"peace\" by Taylor Swift...\n",
      "Done.\n",
      "Searching for \"hoax\" by Taylor Swift...\n",
      "Done.\n"
     ]
    }
   ],
   "source": [
    "pattern = r\"\\[.*?\\]\"\n",
    "fl_dict = {}\n",
    "for track in track_list:\n",
    "    song = genius.search_song(track,'Taylor Swift')\n",
    "    lyric = song.lyrics\n",
    "    lyric = re.sub(pattern,\"\",lyric)\n",
    "    fl_dict[track] = lyric"
   ]
  },
  {
   "cell_type": "code",
   "execution_count": 26,
   "metadata": {
    "Collapsed": "false"
   },
   "outputs": [],
   "source": [
    "album = \"Folklore\"\n",
    "year = \"2020\"\n",
    "artist = 'Taylor Swift'\n",
    "lyric_list=[]\n",
    "for track in track_list:\n",
    "    lyric = fl_dict[track]\n",
    "    for line in lyric.split(\"\\n\"):\n",
    "        if line != \"\\n\":\n",
    "            l_dict = {}\n",
    "            l_dict['album'] = album\n",
    "            l_dict['track_title'] = track\n",
    "            l_dict['lyric'] = line\n",
    "            l_dict['year'] = year\n",
    "            lyric_list.append(l_dict)"
   ]
  },
  {
   "cell_type": "code",
   "execution_count": 38,
   "metadata": {
    "Collapsed": "false"
   },
   "outputs": [],
   "source": [
    "folklore_lyrics = pd.DataFrame(lyric_list)"
   ]
  },
  {
   "cell_type": "code",
   "execution_count": 39,
   "metadata": {
    "Collapsed": "false"
   },
   "outputs": [],
   "source": [
    "lyrics_set = pd.read_csv(\"./FinalTaylorSwiftLyrics.csv\")"
   ]
  },
  {
   "cell_type": "code",
   "execution_count": 41,
   "metadata": {
    "Collapsed": "false"
   },
   "outputs": [],
   "source": [
    "lyrics_set = lyrics_set.append(folklore_lyrics)\n",
    "lyrics_set.reset_index(inplace=True,drop=True)"
   ]
  },
  {
   "cell_type": "code",
   "execution_count": 42,
   "metadata": {
    "Collapsed": "false"
   },
   "outputs": [
    {
     "data": {
      "text/html": [
       "<div>\n",
       "<style scoped>\n",
       "    .dataframe tbody tr th:only-of-type {\n",
       "        vertical-align: middle;\n",
       "    }\n",
       "\n",
       "    .dataframe tbody tr th {\n",
       "        vertical-align: top;\n",
       "    }\n",
       "\n",
       "    .dataframe thead th {\n",
       "        text-align: right;\n",
       "    }\n",
       "</style>\n",
       "<table border=\"1\" class=\"dataframe\">\n",
       "  <thead>\n",
       "    <tr style=\"text-align: right;\">\n",
       "      <th></th>\n",
       "      <th>album</th>\n",
       "      <th>track_title</th>\n",
       "      <th>lyric</th>\n",
       "      <th>year</th>\n",
       "    </tr>\n",
       "  </thead>\n",
       "  <tbody>\n",
       "    <tr>\n",
       "      <th>0</th>\n",
       "      <td>Taylor Swift</td>\n",
       "      <td>Tim McGraw</td>\n",
       "      <td>He said the way my blue eyes shined</td>\n",
       "      <td>2006</td>\n",
       "    </tr>\n",
       "    <tr>\n",
       "      <th>1</th>\n",
       "      <td>Taylor Swift</td>\n",
       "      <td>Tim McGraw</td>\n",
       "      <td>Put those Georgia stars to shame that night</td>\n",
       "      <td>2006</td>\n",
       "    </tr>\n",
       "    <tr>\n",
       "      <th>2</th>\n",
       "      <td>Taylor Swift</td>\n",
       "      <td>Tim McGraw</td>\n",
       "      <td>I said, \"That's a lie\"</td>\n",
       "      <td>2006</td>\n",
       "    </tr>\n",
       "    <tr>\n",
       "      <th>3</th>\n",
       "      <td>Taylor Swift</td>\n",
       "      <td>Tim McGraw</td>\n",
       "      <td>Just a boy in a Chevy truck</td>\n",
       "      <td>2006</td>\n",
       "    </tr>\n",
       "    <tr>\n",
       "      <th>4</th>\n",
       "      <td>Taylor Swift</td>\n",
       "      <td>Tim McGraw</td>\n",
       "      <td>That had a tendency of gettin' stuck</td>\n",
       "      <td>2006</td>\n",
       "    </tr>\n",
       "    <tr>\n",
       "      <th>...</th>\n",
       "      <td>...</td>\n",
       "      <td>...</td>\n",
       "      <td>...</td>\n",
       "      <td>...</td>\n",
       "    </tr>\n",
       "    <tr>\n",
       "      <th>6356</th>\n",
       "      <td>Folklore</td>\n",
       "      <td>hoax</td>\n",
       "      <td>My kingdom come undone</td>\n",
       "      <td>2020</td>\n",
       "    </tr>\n",
       "    <tr>\n",
       "      <th>6357</th>\n",
       "      <td>Folklore</td>\n",
       "      <td>hoax</td>\n",
       "      <td>My broken drum</td>\n",
       "      <td>2020</td>\n",
       "    </tr>\n",
       "    <tr>\n",
       "      <th>6358</th>\n",
       "      <td>Folklore</td>\n",
       "      <td>hoax</td>\n",
       "      <td>You have beaten my heart</td>\n",
       "      <td>2020</td>\n",
       "    </tr>\n",
       "    <tr>\n",
       "      <th>6359</th>\n",
       "      <td>Folklore</td>\n",
       "      <td>hoax</td>\n",
       "      <td>Don't want no other shade of blue but you</td>\n",
       "      <td>2020</td>\n",
       "    </tr>\n",
       "    <tr>\n",
       "      <th>6360</th>\n",
       "      <td>Folklore</td>\n",
       "      <td>hoax</td>\n",
       "      <td>No other sadness in the world would do</td>\n",
       "      <td>2020</td>\n",
       "    </tr>\n",
       "  </tbody>\n",
       "</table>\n",
       "<p>6361 rows × 4 columns</p>\n",
       "</div>"
      ],
      "text/plain": [
       "             album track_title                                        lyric  \\\n",
       "0     Taylor Swift  Tim McGraw          He said the way my blue eyes shined   \n",
       "1     Taylor Swift  Tim McGraw  Put those Georgia stars to shame that night   \n",
       "2     Taylor Swift  Tim McGraw                       I said, \"That's a lie\"   \n",
       "3     Taylor Swift  Tim McGraw                  Just a boy in a Chevy truck   \n",
       "4     Taylor Swift  Tim McGraw         That had a tendency of gettin' stuck   \n",
       "...            ...         ...                                          ...   \n",
       "6356      Folklore        hoax                       My kingdom come undone   \n",
       "6357      Folklore        hoax                               My broken drum   \n",
       "6358      Folklore        hoax                     You have beaten my heart   \n",
       "6359      Folklore        hoax    Don't want no other shade of blue but you   \n",
       "6360      Folklore        hoax       No other sadness in the world would do   \n",
       "\n",
       "      year  \n",
       "0     2006  \n",
       "1     2006  \n",
       "2     2006  \n",
       "3     2006  \n",
       "4     2006  \n",
       "...    ...  \n",
       "6356  2020  \n",
       "6357  2020  \n",
       "6358  2020  \n",
       "6359  2020  \n",
       "6360  2020  \n",
       "\n",
       "[6361 rows x 4 columns]"
      ]
     },
     "execution_count": 42,
     "metadata": {},
     "output_type": "execute_result"
    }
   ],
   "source": [
    "lyrics_set"
   ]
  },
  {
   "cell_type": "code",
   "execution_count": 43,
   "metadata": {
    "Collapsed": "false"
   },
   "outputs": [],
   "source": [
    "lyrics_set.to_csv(\"./FinalTaylorSwiftLyrics.csv\",index=False)"
   ]
  },
  {
   "cell_type": "code",
   "execution_count": null,
   "metadata": {
    "Collapsed": "false"
   },
   "outputs": [],
   "source": []
  }
 ],
 "metadata": {
  "kernelspec": {
   "display_name": "Python [conda env:root]",
   "language": "python",
   "name": "conda-root-py"
  },
  "language_info": {
   "codemirror_mode": {
    "name": "ipython",
    "version": 3
   },
   "file_extension": ".py",
   "mimetype": "text/x-python",
   "name": "python",
   "nbconvert_exporter": "python",
   "pygments_lexer": "ipython3",
   "version": "3.7.6"
  }
 },
 "nbformat": 4,
 "nbformat_minor": 4
}
